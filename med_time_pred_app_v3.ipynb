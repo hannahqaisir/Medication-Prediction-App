{
 "cells": [
  {
   "cell_type": "code",
   "execution_count": 1,
   "id": "211e88df",
   "metadata": {},
   "outputs": [],
   "source": [
    "import os, csv\n",
    "import pickle\n",
    "\n",
    "import pandas as pd\n",
    "from lightgbm import LGBMClassifier\n",
    "\n",
    "from ipywidgets import interact, Dropdown, Select, Button, Output\n",
    "from IPython.display import display\n",
    "\n",
    "from feature_engine.creation import CyclicalFeatures"
   ]
  },
  {
   "cell_type": "code",
   "execution_count": 2,
   "id": "83df0093",
   "metadata": {},
   "outputs": [],
   "source": [
    "## load saved data and metadata\n",
    "su_med_data = pd.read_csv(\"./su_prescribed_meds.csv\")\n",
    "\n",
    "## load trained model\n",
    "with open(\"./saved_model.pkl\", \"rb\") as f:\n",
    "    trained_model = pickle.load(f)\n",
    "    \n",
    "interval_disclaimer = pd.read_csv(\"./med_interval_disclaimer.csv\")"
   ]
  },
  {
   "cell_type": "code",
   "execution_count": 3,
   "id": "944b79b5",
   "metadata": {},
   "outputs": [],
   "source": [
    "SAVE_RESULTS = True\n",
    "RESULTS_FILE = \"./results_stored.csv\"\n",
    "HEADER = ['su_number', 'medication', 'timecode', 'dose', 'predicted_time']"
   ]
  },
  {
   "cell_type": "code",
   "execution_count": 4,
   "id": "2dc747a3",
   "metadata": {},
   "outputs": [],
   "source": [
    "unique_su = sorted(su_med_data[\"su_number\"].unique().tolist())"
   ]
  },
  {
   "cell_type": "code",
   "execution_count": 9,
   "id": "df287541",
   "metadata": {},
   "outputs": [],
   "source": [
    "bf_intervals = pd.date_range(start=\"07:00:00\", end=\"12:00:00\", freq=\"15T\")\n",
    "ln_intervals = pd.date_range(start=\"12:15:00\", end=\"16:00:00\", freq=\"15T\")\n",
    "em_intervals = pd.date_range(start=\"16:15:00\", end=\"20:00:00\", freq=\"15T\")\n",
    "bt_intervals = pd.date_range(start=\"20:15:00\", end=\"23:45:00\", freq=\"15T\")\n",
    "ot_intervals = pd.date_range(start=\"00:00:00\", end=\"07:00:00\", freq=\"15T\")\n",
    "\n",
    "bf_df = pd.DataFrame(data=bf_intervals, columns=[\"datetime\"])\n",
    "ln_df = pd.DataFrame(data=ln_intervals, columns=[\"datetime\"])\n",
    "em_df = pd.DataFrame(data=em_intervals, columns=[\"datetime\"])\n",
    "bt_df = pd.DataFrame(data=bt_intervals, columns=[\"datetime\"])\n",
    "ot_df = pd.DataFrame(data=ot_intervals, columns=[\"datetime\"])"
   ]
  },
  {
   "cell_type": "code",
   "execution_count": 10,
   "id": "e2776d3e",
   "metadata": {},
   "outputs": [],
   "source": [
    "def make_time_cyclical(df, dt_column=\"datetime\"):\n",
    "    \n",
    "    cyclic_feats = [\"Given hour\", \"Given min\", \"Week Day\", \"Month\", \"Quarter\"]\n",
    "    \n",
    "    df[\"Given hour\"] = df[dt_column].apply(lambda x: x.hour+1)\n",
    "    df[\"Given min\"] = df[dt_column].apply(lambda x: x.minute+1)\n",
    "    \n",
    "    df[\"Week Day\"] = df[dt_column].apply(lambda x: x.dayofweek+1)\n",
    "    df[\"Month\"] = df[dt_column].apply(lambda x: x.month)\n",
    "    df[\"Quarter\"] = df[dt_column].apply(lambda x: x.quarter)\n",
    "    df.drop(dt_column, axis=1, inplace=True)\n",
    "    \n",
    "    cyclical = CyclicalFeatures(variables=cyclic_feats, drop_original=True)\n",
    "    df = cyclical.fit_transform(df)\n",
    "    \n",
    "    return df"
   ]
  },
  {
   "cell_type": "code",
   "execution_count": 13,
   "id": "764a890c",
   "metadata": {},
   "outputs": [],
   "source": [
    "bf_df = make_time_cyclical(bf_df)\n",
    "ln_df = make_time_cyclical(ln_df)\n",
    "em_df = make_time_cyclical(em_df)\n",
    "bt_df = make_time_cyclical(bt_df)\n",
    "ot_df = make_time_cyclical(ot_df)"
   ]
  },
  {
   "cell_type": "code",
   "execution_count": null,
   "id": "8ee4bc36",
   "metadata": {},
   "outputs": [],
   "source": [
    "timecode_dict = {\"BF\":[bf_df, bf_intervals], \"LN\":[ln_df, ln_intervals],\n",
    "                 \"EM\":[em_df, em_intervals], \"BT\":[bt_df, bt_intervals], \"OT\":[ot_df, ot_intervals]}"
   ]
  },
  {
   "cell_type": "code",
   "execution_count": null,
   "id": "b9691d12",
   "metadata": {},
   "outputs": [],
   "source": [
    "su_widget = Dropdown(options = unique_su, description='SU Number')\n",
    "med_widget = Dropdown(description=\"Medication\")\n",
    "timecode_widget = Dropdown(description=\"Time Code\")\n",
    "dose_widget = Select(description=\"Dose\")\n",
    "\n",
    "def update_med_options(*args):\n",
    "    med_widget.options = su_med_data[su_med_data[\"su_number\"]==su_widget.value][\"Medication Type\"].unique().tolist()\n",
    "def update_time_code_options(*args):\n",
    "    timecode_widget.options = su_med_data[(su_med_data[\"su_number\"]==su_widget.value) & \\\n",
    "                                          (su_med_data[\"Medication Type\"]==med_widget.value)] \\\n",
    "                                          [\"Medication Time Code\"].unique().tolist()\n",
    "def update_dose_options(*args):\n",
    "    dose_widget.options = su_med_data[(su_med_data[\"su_number\"]==su_widget.value) & \\\n",
    "                                          (su_med_data[\"Medication Type\"]==med_widget.value) & \\\n",
    "                                          (su_med_data[\"Medication Time Code\"]==timecode_widget.value)] \\\n",
    "                                          [\"Schedule Dose\"].tolist()\n",
    "su_widget.observe(update_med_options) \n",
    "med_widget.observe(update_time_code_options)\n",
    "timecode_widget.observe(update_dose_options)\n",
    "\n",
    "@interact(su_number=su_widget, Medication=med_widget, TimeCode=timecode_widget, Dose=dose_widget)\n",
    "def print_vals(su_number, Medication, TimeCode, Dose):\n",
    "    print(f\"Selected Service User: {su_number}\")\n",
    "    print(f\"Selected Medication: {Medication}\")\n",
    "    print(f\"Selected TimeCode: {TimeCode}\")\n",
    "    print(f\"Selected Dose: {Dose}\")"
   ]
  },
  {
   "cell_type": "code",
   "execution_count": null,
   "id": "f9876ac4",
   "metadata": {},
   "outputs": [],
   "source": [
    "def make_data(su, med, timecode, dose):\n",
    "    su_meds = su_med_data[(su_med_data[\"su_number\"] == su) & (su_med_data[\"Medication Type\"] == med) \\\n",
    "               & (su_med_data[\"Medication Time Code\"] == timecode) & (su_med_data[\"Schedule Dose\"] == dose)]\n",
    "\n",
    "\n",
    "    su_meds = su_meds.loc[su_meds.index.repeat(len(timecode_dict[timecode][0]))].reset_index(drop=True)\n",
    "    time_df = timecode_dict[timecode][0]\n",
    "    data_df = pd.concat([su_meds, time_df], axis=1)\n",
    "    data_df.drop(\"su_number\", axis=1, inplace=True)\n",
    "\n",
    "    data_df[\"Medication Type\"] = data_df[\"Medication Type\"].astype('category')\n",
    "    data_df[\"Medication Time Code\"] = data_df[\"Medication Time Code\"].astype('category')\n",
    "\n",
    "    data_df[\"Route\"] = data_df[\"Route\"].astype('category')\n",
    "    data_df[\"Form\"] = data_df[\"Form\"].astype('category')\n",
    "    return data_df"
   ]
  },
  {
   "cell_type": "code",
   "execution_count": null,
   "id": "2710727b",
   "metadata": {},
   "outputs": [],
   "source": [
    "def check_interval_disclaimer(su, med):\n",
    "    disc = interval_disclaimer[(interval_disclaimer[\"Service User ID\"]==su) & (interval_disclaimer[\"Medication Name\"]==med)]\n",
    "    if not disc.empty:\n",
    "        return True, disc[\"Medication Time Interval\"].iloc[0]\n",
    "    else:\n",
    "        return False, None"
   ]
  },
  {
   "cell_type": "code",
   "execution_count": null,
   "id": "15815119",
   "metadata": {},
   "outputs": [],
   "source": [
    "def predict_time(b):\n",
    "    data_df = make_data(su=su_widget.value, med=med_widget.value, timecode=timecode_widget.value, dose=dose_widget.value)\n",
    "    preds = trained_model.predict_proba(data_df)\n",
    "    predict_time.data = timecode_dict[timecode_widget.value][1][preds[:,0].argmax()].strftime('%d-%m-%Y %X')\n",
    "    is_disc, disclaimer = check_interval_disclaimer(su=su_widget.value, med=med_widget.value)\n",
    "    \n",
    "    if is_disc:\n",
    "        with output_box:\n",
    "            print(f\"Recommended Time to administer this medicine is: {predict_time.data}\")\n",
    "            print(f\"DISCLAIMER: This Patient has an Interval Restriction on this medicine of {disclaimer}\")\n",
    "    else:\n",
    "        with output_box:\n",
    "            print(f\"Recommended Time to administer this medicine is: {predict_time.data}\")\n",
    "            \n",
    "    if SAVE_RESULTS:\n",
    "        \n",
    "        data = {'su_number': su_widget.value, 'medication': med_widget.value, 'timecode': timecode_widget.value,\n",
    "                'dose': dose_widget.value, 'predicted_time': predict_time.data}\n",
    "        \n",
    "        # check if the CSV file already exists\n",
    "        if os.path.isfile(RESULTS_FILE):\n",
    "            # append data to the existing CSV file\n",
    "            with open(RESULTS_FILE, 'a', newline='') as file:\n",
    "                writer = csv.DictWriter(file, fieldnames=HEADER)\n",
    "                writer.writerow(data)\n",
    "        else:\n",
    "            # create a new CSV file and write data to it\n",
    "            with open(RESULTS_FILE, 'w', newline='') as file:\n",
    "                writer = csv.DictWriter(file, fieldnames=HEADER)\n",
    "                writer.writeheader()\n",
    "                writer.writerow(data)"
   ]
  },
  {
   "cell_type": "code",
   "execution_count": null,
   "id": "6db144e5",
   "metadata": {},
   "outputs": [],
   "source": [
    "predict_button = Button(\n",
    "    description='Predict Time',\n",
    "    disabled=False,\n",
    "    button_style='info', # 'success', 'info', 'warning', 'danger' or ''\n",
    "    tooltip='Run button function',\n",
    "    icon='play'\n",
    ")\n",
    "output_box = Output()\n",
    "display(predict_button, output_box)\n",
    "predict_button.on_click(predict_time)"
   ]
  },
  {
   "cell_type": "code",
   "execution_count": null,
   "id": "ab05add6",
   "metadata": {},
   "outputs": [],
   "source": []
  }
 ],
 "metadata": {
  "kernelspec": {
   "display_name": "Python [conda env:halo] *",
   "language": "python",
   "name": "conda-env-halo-py"
  },
  "language_info": {
   "codemirror_mode": {
    "name": "ipython",
    "version": 3
   },
   "file_extension": ".py",
   "mimetype": "text/x-python",
   "name": "python",
   "nbconvert_exporter": "python",
   "pygments_lexer": "ipython3",
   "version": "3.10.9"
  }
 },
 "nbformat": 4,
 "nbformat_minor": 5
}
