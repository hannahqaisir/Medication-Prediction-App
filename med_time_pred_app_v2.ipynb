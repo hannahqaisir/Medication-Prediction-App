{
 "cells": [
  {
   "cell_type": "code",
   "execution_count": 1,
   "id": "211e88df",
   "metadata": {},
   "outputs": [],
   "source": [
    "import pickle\n",
    "\n",
    "import pandas as pd\n",
    "from lightgbm import LGBMClassifier\n",
    "\n",
    "import ipywidgets as widgets\n",
    "from IPython.display import display\n",
    "\n",
    "from feature_engine.creation import CyclicalFeatures"
   ]
  },
  {
   "cell_type": "code",
   "execution_count": 2,
   "id": "83df0093",
   "metadata": {},
   "outputs": [],
   "source": [
    "## load saved data and metadata\n",
    "su_med_data = pd.read_csv(\"./su_prescribed_meds.csv\")\n",
    "\n",
    "## load trained model\n",
    "with open(\"./saved_model.pkl\", \"rb\") as f:\n",
    "    trained_model = pickle.load(f)"
   ]
  },
  {
   "cell_type": "code",
   "execution_count": null,
   "id": "2dc747a3",
   "metadata": {},
   "outputs": [],
   "source": [
    "unique_su = sorted(su_med_data[\"su_number\"].unique().tolist())"
   ]
  },
  {
   "cell_type": "code",
   "execution_count": null,
   "id": "df287541",
   "metadata": {},
   "outputs": [],
   "source": [
    "bf_intervals = pd.date_range(start=\"07:00:00\", end=\"12:00:00\", freq=\"15T\")\n",
    "ln_intervals = pd.date_range(start=\"12:15:00\", end=\"16:00:00\", freq=\"15T\")\n",
    "em_intervals = pd.date_range(start=\"16:15:00\", end=\"20:00:00\", freq=\"15T\")\n",
    "bt_intervals = pd.date_range(start=\"20:15:00\", end=\"23:45:00\", freq=\"15T\")\n",
    "ot_intervals = pd.date_range(start=\"00:00:00\", end=\"07:00:00\", freq=\"15T\")\n",
    "\n",
    "bf_df = pd.DataFrame(data=bf_intervals, columns=[\"datetime\"])\n",
    "ln_df = pd.DataFrame(data=ln_intervals, columns=[\"datetime\"])\n",
    "em_df = pd.DataFrame(data=em_intervals, columns=[\"datetime\"])\n",
    "bt_df = pd.DataFrame(data=bt_intervals, columns=[\"datetime\"])\n",
    "ot_df = pd.DataFrame(data=ot_intervals, columns=[\"datetime\"])"
   ]
  },
  {
   "cell_type": "code",
   "execution_count": null,
   "id": "e2776d3e",
   "metadata": {},
   "outputs": [],
   "source": [
    "def make_time_cyclical(df, dt_column=\"datetime\"):\n",
    "    \n",
    "    cyclic_feats = [\"Given hour\", \"Given min\", \"Week Day\", \"Month\", \"Quarter\"]\n",
    "    \n",
    "    df[\"Given hour\"] = df[dt_column].apply(lambda x: x.hour)\n",
    "    df[\"Given min\"] = df[dt_column].apply(lambda x: x.minute)\n",
    "    \n",
    "    df[\"Week Day\"] = df[dt_column].apply(lambda x: x.dayofweek)\n",
    "    df[\"Month\"] = df[dt_column].apply(lambda x: x.month)\n",
    "    df[\"Quarter\"] = df[dt_column].apply(lambda x: x.quarter)\n",
    "    df.drop(dt_column, axis=1, inplace=True)\n",
    "    \n",
    "    cyclical = CyclicalFeatures(variables=cyclic_feats, drop_original=True)\n",
    "    df = cyclical.fit_transform(df)\n",
    "    \n",
    "    return df"
   ]
  },
  {
   "cell_type": "code",
   "execution_count": null,
   "id": "764a890c",
   "metadata": {},
   "outputs": [],
   "source": [
    "bf_df = make_time_cyclical(bf_df)\n",
    "ln_df = make_time_cyclical(ln_df)\n",
    "em_df = make_time_cyclical(em_df)\n",
    "bt_df = make_time_cyclical(bt_df)\n",
    "ot_df = make_time_cyclical(ot_df)"
   ]
  },
  {
   "cell_type": "code",
   "execution_count": null,
   "id": "8ee4bc36",
   "metadata": {},
   "outputs": [],
   "source": [
    "timecode_dict = {\"BF\":[bf_df, bf_intervals], \"LN\":[ln_df, ln_intervals],\n",
    "                 \"EM\":[em_df, em_intervals], \"BT\":[bt_df, bt_intervals], \"OT\":[ot_df, ot_intervals]}"
   ]
  },
  {
   "cell_type": "code",
   "execution_count": null,
   "id": "b9691d12",
   "metadata": {},
   "outputs": [],
   "source": [
    "from ipywidgets import interact, Dropdown\n",
    "\n",
    "su_widget = Dropdown(options = unique_su, description='SU Number')\n",
    "med_widget = Dropdown()\n",
    "# timecode_widget = Dropdown(description=\"Medication\")\n",
    "\n",
    "def update_med_options(*args):\n",
    "    med_widget.options = su_med_data[su_med_data[\"su_number\"]==su_widget.value][\"Medication Type\"].unique().tolist()\n",
    "# def update_time_code_options(*args):\n",
    "#     timecode_widget.options = su_med_data[(su_med_data[\"su_number\"]==su_widget.value) & \\\n",
    "#                                           (su_med_data[\"Medication Type\"]==med_widget.value)] \\\n",
    "#                                           [\"Medication Time Code\"].unique().tolist()\n",
    "med_widget.observe(update_med_options) \n",
    "# timecode_widget.observe(update_time_code_options)\n",
    "\n",
    "@interact(su_number=su_widget, Medication=med_widget)\n",
    "def print_vals(su_number, Medication):\n",
    "    print(f\"Selected Service User: {su_number}\")\n",
    "    print(f\"Selected Medication: {Medication}\")"
   ]
  },
  {
   "cell_type": "code",
   "execution_count": null,
   "id": "fbec21af",
   "metadata": {},
   "outputs": [],
   "source": [
    "timecode_widget = widgets.Dropdown(\n",
    "    options=[\"BF\", \"LN\", \"EM\", \"BT\", \"OT\"],\n",
    "    description='Time Code',\n",
    "    disabled=False,\n",
    ")\n",
    "display(timecode_widget)"
   ]
  },
  {
   "cell_type": "code",
   "execution_count": null,
   "id": "562dee66",
   "metadata": {},
   "outputs": [],
   "source": [
    "dose_widget = widgets.FloatText(\n",
    "    value=1,\n",
    "    description='Dose:',\n",
    "    disabled=False\n",
    ")\n",
    "display(dose_widget)"
   ]
  },
  {
   "cell_type": "code",
   "execution_count": null,
   "id": "f9876ac4",
   "metadata": {},
   "outputs": [],
   "source": [
    "su_meds = su_med_data[(su_med_data[\"su_number\"] == su_widget.value) & (su_med_data[\"Medication Type\"] == med_widget.value) \\\n",
    "           & (su_med_data[\"Medication Time Code\"] == timecode_widget.value)]"
   ]
  },
  {
   "cell_type": "code",
   "execution_count": null,
   "id": "38c62c9c",
   "metadata": {},
   "outputs": [],
   "source": [
    "su_meds = su_meds.loc[su_meds.index.repeat(len(timecode_dict[timecode_widget.value][0]))].reset_index(drop=True)\n",
    "time_df = timecode_dict[timecode_widget.value][0]\n",
    "data_df = pd.concat([su_meds, time_df], axis=1)\n",
    "data_df[\"Schedule Dose\"] = dose_widget.value\n",
    "data_df.drop(\"su_number\", axis=1, inplace=True)"
   ]
  },
  {
   "cell_type": "code",
   "execution_count": null,
   "id": "627a72dd",
   "metadata": {},
   "outputs": [],
   "source": [
    "data_df[\"Medication Type\"] = data_df[\"Medication Type\"].astype('category')\n",
    "data_df[\"Medication Time Code\"] = data_df[\"Medication Time Code\"].astype('category')\n",
    "\n",
    "data_df[\"Route\"] = data_df[\"Route\"].astype('category')\n",
    "data_df[\"Form\"] = data_df[\"Form\"].astype('category')"
   ]
  },
  {
   "cell_type": "code",
   "execution_count": null,
   "id": "15815119",
   "metadata": {},
   "outputs": [],
   "source": [
    "def predict_time(b):\n",
    "    preds = trained_model.predict_proba(data_df)\n",
    "    predict_time.data = str(timecode_dict[timecode_widget.value][1][preds[:,0].argmax()])\n",
    "    with output_box:\n",
    "        print(f\"Optimal Time to administer this medicine is: {predict_time.data}\")"
   ]
  },
  {
   "cell_type": "code",
   "execution_count": null,
   "id": "6db144e5",
   "metadata": {},
   "outputs": [],
   "source": [
    "predict_button = widgets.Button(\n",
    "    description='Predict Time',\n",
    "    disabled=False,\n",
    "    button_style='info', # 'success', 'info', 'warning', 'danger' or ''\n",
    "    tooltip='Run button function',\n",
    "    icon='play'\n",
    ")\n",
    "output_box = widgets.Output()\n",
    "display(predict_button, output_box)\n",
    "predict_button.on_click(predict_time)"
   ]
  },
  {
   "cell_type": "code",
   "execution_count": null,
   "id": "a3c1bc7f",
   "metadata": {},
   "outputs": [],
   "source": []
  }
 ],
 "metadata": {
  "kernelspec": {
   "display_name": "Python [conda env:halo] *",
   "language": "python",
   "name": "conda-env-halo-py"
  },
  "language_info": {
   "codemirror_mode": {
    "name": "ipython",
    "version": 3
   },
   "file_extension": ".py",
   "mimetype": "text/x-python",
   "name": "python",
   "nbconvert_exporter": "python",
   "pygments_lexer": "ipython3",
   "version": "3.10.9"
  }
 },
 "nbformat": 4,
 "nbformat_minor": 5
}
